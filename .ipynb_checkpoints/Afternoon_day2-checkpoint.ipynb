{
 "cells": [
  {
   "cell_type": "markdown",
   "metadata": {
    "id": "o9bS1D690o4H"
   },
   "source": [
    "# Lesson 2"
   ]
  },
  {
   "cell_type": "markdown",
   "metadata": {
    "id": "AIAFM59-0s1R"
   },
   "source": [
    "## Working with requests library"
   ]
  },
  {
   "cell_type": "markdown",
   "metadata": {
    "id": "1UxgYNvZ001B"
   },
   "source": [
    "Now we will start doing a request to the following websites: Google, NBA and Rotten Tomatoes. \n",
    "\n",
    "Let's check their status_code by using the requests method GET, which simply indicates that you're trying to retrieve information from the data source:"
   ]
  },
  {
   "cell_type": "code",
   "execution_count": 91,
   "metadata": {
    "colab": {
     "base_uri": "https://localhost:8080/"
    },
    "id": "kiYGT0XX1BCO",
    "outputId": "860af989-421e-4e56-c6e1-b6f32188dc4c"
   },
   "outputs": [
    {
     "name": "stdout",
     "output_type": "stream",
     "text": [
      "Google: 200\n",
      "NBA: 401\n",
      "Rotten Tomatoes: 403\n"
     ]
    }
   ],
   "source": [
    "import requests\n",
    "\n",
    "google = requests.get(\"https://developers.google.com\")\n",
    "print(\"Google:\", google.status_code)\n",
    "\n",
    "NBA = response = requests.get(\"https://api.sportsdata.io/api/nba/fantasy/json/CurrentSeason\")\n",
    "print(\"NBA:\", NBA.status_code)\n",
    "\n",
    "rotten_tomato = requests.get(\"http://api.rottentomatoes.com/api/public/v1.0/lists/movies/box_office.json\")\n",
    "print(\"Rotten Tomatoes:\", rotten_tomato.status_code)"
   ]
  },
  {
   "cell_type": "markdown",
   "metadata": {
    "id": "Mcl78jF61N61"
   },
   "source": [
    "## Status codes"
   ]
  },
  {
   "cell_type": "markdown",
   "metadata": {
    "id": "oI_UNKmR1Pdh"
   },
   "source": [
    "So we can see we receive some status codes, the most frequent are these:\n",
    "\n",
    "* **200**: Everything went okay and the result has been returned (if any).\n",
    "\n",
    "* **301**: The server is redirecting you to a different endpoint. This can happen when a company switches domain names, or an endpoint name is changed.\n",
    "\n",
    "* **400**: The server thinks you made a bad request. This happens when you don’t send along the right data, among other things.\n",
    "\n",
    "* **401**: You are not properly authenticated.\n",
    "\n",
    "* **403**: The resource you’re trying to access is forbidden: you don’t have the right permissions to get it.\n",
    "\n",
    "* **404**: The resource you tried to access doesn't exist.\n",
    "\n",
    "* **503**: The server can't handle the request."
   ]
  },
  {
   "cell_type": "markdown",
   "metadata": {
    "id": "GAtMKKsm1se9"
   },
   "source": [
    "## After connecting"
   ]
  },
  {
   "cell_type": "markdown",
   "metadata": {
    "id": "oO0Ux53i1z89"
   },
   "source": [
    "As we are connected now to the google developer endpoint let's try to get some data from it."
   ]
  },
  {
   "cell_type": "code",
   "execution_count": 92,
   "metadata": {
    "colab": {
     "base_uri": "https://localhost:8080/"
    },
    "id": "BSVA6kKM14TQ",
    "outputId": "4072719f-8fd9-441f-9b43-e29e7e6eb88f"
   },
   "outputs": [],
   "source": [
    "# print(google.text)"
   ]
  },
  {
   "cell_type": "markdown",
   "metadata": {
    "id": "JqcSX41t2-TJ"
   },
   "source": [
    "This is not the proper format for us right now so let's try to tranform it to the one we need, the **JSON (JavaScript Object Notation) format**, which is the language of RESTful APIs. It is the way to encode data to make data easily readable by machines."
   ]
  },
  {
   "cell_type": "code",
   "execution_count": 93,
   "metadata": {
    "colab": {
     "base_uri": "https://localhost:8080/",
     "height": 286
    },
    "id": "5uIQdsNT3D3r",
    "outputId": "b58cb73b-cfa7-4884-e3c2-d0d3afc38eb3"
   },
   "outputs": [],
   "source": [
    "# google.json()"
   ]
  },
  {
   "cell_type": "markdown",
   "metadata": {
    "id": "EfwetAel3MP7"
   },
   "source": [
    "The problem here is that we are not connected to a proper API that has a json as the endpoint, so we will need to get another valid URL. Remember that the code 200 means that the connection has been established, but not that it is the connection you need. Let's try with the skyscrapper API ."
   ]
  },
  {
   "cell_type": "markdown",
   "metadata": {
    "id": "-Q8OTR6N3fd7"
   },
   "source": [
    "We will connect to this API through the web [RapidAPI ](https://rapidapi.com/skyscanner/api/skyscanner-flight-search)so you will need to create an account to get a personal Key (user ID) to have access to it, just sign up and get your Key. The \"problem\" with this API is that we will need to pass some parameters, including the headers and the city following this code:"
   ]
  },
  {
   "cell_type": "code",
   "execution_count": 94,
   "metadata": {
    "id": "pKRZXgJGd4Tl"
   },
   "outputs": [],
   "source": [
    "import sys\n",
    "import import_ipynb\n",
    "# sys.path.insert(1, '/content/drive/MyDrive/Credentials/')\n",
    "from config import *\n",
    "import requests\n",
    "# import config"
   ]
  },
  {
   "cell_type": "code",
   "execution_count": 95,
   "metadata": {},
   "outputs": [],
   "source": [
    "# airport code lookup\n",
    "# takes first one in the json response for airport location lookupand returns it\n",
    "\n",
    "def lookup_city_code(city_name):\n",
    "    \n",
    "    url = \"https://skyscanner-skyscanner-flight-search-v1.p.rapidapi.com/apiservices/autosuggest/v1.0/UK/GBP/en-GB/\"\n",
    "    params = {\"query\":city_name}\n",
    "    \n",
    "    headers = {'x-rapidapi-host': \"skyscanner-skyscanner-flight-search-v1.p.rapidapi.com\",\n",
    "                      'x-rapidapi-key': x_rapidapi_key}\n",
    "\n",
    "    response = requests.get(url, headers = headers, params = params)\n",
    "    \n",
    "    return response.json()['Places'][0]['PlaceId']\n"
   ]
  },
  {
   "cell_type": "code",
   "execution_count": 96,
   "metadata": {},
   "outputs": [
    {
     "data": {
      "text/plain": [
       "'LOND-sky'"
      ]
     },
     "execution_count": 96,
     "metadata": {},
     "output_type": "execute_result"
    }
   ],
   "source": [
    "lookup_city_code('London')"
   ]
  },
  {
   "cell_type": "code",
   "execution_count": 97,
   "metadata": {
    "colab": {
     "base_uri": "https://localhost:8080/"
    },
    "id": "aVYLLBbt30zX",
    "outputId": "c3eba489-1956-4a62-bdb2-019abd9792a4"
   },
   "outputs": [
    {
     "data": {
      "text/plain": [
       "{'Places': [{'PlaceId': 'NRT-sky',\n",
       "   'PlaceName': 'Tokyo Narita',\n",
       "   'CountryId': 'JP-sky',\n",
       "   'RegionId': '',\n",
       "   'CityId': 'TYOA-sky',\n",
       "   'CountryName': 'Japan'},\n",
       "  {'PlaceId': 'NOTT-sky',\n",
       "   'PlaceName': 'Nottingham',\n",
       "   'CountryId': 'UK-sky',\n",
       "   'RegionId': '',\n",
       "   'CityId': 'NOTT-sky',\n",
       "   'CountryName': 'United Kingdom'},\n",
       "  {'PlaceId': 'EMA-sky',\n",
       "   'PlaceName': 'East Midlands',\n",
       "   'CountryId': 'UK-sky',\n",
       "   'RegionId': '',\n",
       "   'CityId': 'NOTT-sky',\n",
       "   'CountryName': 'United Kingdom'},\n",
       "  {'PlaceId': 'NQT-sky',\n",
       "   'PlaceName': 'Nottingham',\n",
       "   'CountryId': 'UK-sky',\n",
       "   'RegionId': '',\n",
       "   'CityId': 'NOTT-sky',\n",
       "   'CountryName': 'United Kingdom'},\n",
       "  {'PlaceId': 'NL-sky',\n",
       "   'PlaceName': 'Netherlands',\n",
       "   'CountryId': 'NL-sky',\n",
       "   'RegionId': '',\n",
       "   'CityId': '-sky',\n",
       "   'CountryName': 'Netherlands'},\n",
       "  {'PlaceId': 'CCU-sky',\n",
       "   'PlaceName': 'Netaji Subhash Chandra Bose International',\n",
       "   'CountryId': 'IN-sky',\n",
       "   'RegionId': '',\n",
       "   'CityId': 'ICCU-sky',\n",
       "   'CountryName': 'India'},\n",
       "  {'PlaceId': 'KRT-sky',\n",
       "   'PlaceName': 'Khartoum',\n",
       "   'CountryId': 'SD-sky',\n",
       "   'RegionId': '',\n",
       "   'CityId': 'KRTA-sky',\n",
       "   'CountryName': 'Sudan'},\n",
       "  {'PlaceId': 'SCL-sky',\n",
       "   'PlaceName': 'Santiago Arturo Merino Benitez',\n",
       "   'CountryId': 'CL-sky',\n",
       "   'RegionId': '',\n",
       "   'CityId': 'SCLA-sky',\n",
       "   'CountryName': 'Chile'},\n",
       "  {'PlaceId': 'JSI-sky',\n",
       "   'PlaceName': 'Skiathos Island National',\n",
       "   'CountryId': 'GR-sky',\n",
       "   'RegionId': '',\n",
       "   'CityId': 'SKIA-sky',\n",
       "   'CountryName': 'Greece'},\n",
       "  {'PlaceId': 'AMS-sky',\n",
       "   'PlaceName': 'Amsterdam',\n",
       "   'CountryId': 'NL-sky',\n",
       "   'RegionId': '',\n",
       "   'CityId': 'AMST-sky',\n",
       "   'CountryName': 'Netherlands'}]}"
      ]
     },
     "execution_count": 97,
     "metadata": {},
     "output_type": "execute_result"
    }
   ],
   "source": [
    "url = \"https://skyscanner-skyscanner-flight-search-v1.p.rapidapi.com/apiservices/autosuggest/v1.0/UK/GBP/en-GB/\"\n",
    "\n",
    "params = {\"query\":\"NRT\"}\n",
    "\n",
    "#headers = {'x-rapidapi-host': \"skyscanner-skyscanner-flight-search-v1.p.rapidapi.com\",\n",
    "#                      'x-rapidapi-key': \"<introduce your RapidAPI key here>\"}\n",
    "\n",
    "headers = {'x-rapidapi-host': \"skyscanner-skyscanner-flight-search-v1.p.rapidapi.com\",\n",
    "                      'x-rapidapi-key': x_rapidapi_key}\n",
    "\n",
    "# Notice the additional keywords here (headers, params)\n",
    "response = requests.get(url, headers = headers, params = params)\n",
    "\n",
    "response.json()"
   ]
  },
  {
   "cell_type": "markdown",
   "metadata": {
    "id": "FKg3V8md4GqT"
   },
   "source": [
    "You should get:\n",
    "\n",
    "{\"Places\":[{\"PlaceId\":\"TYOA-sky\",\"PlaceName\":\"Tokyo\",\"CountryId\":\"JP-sky\",\"RegionId\":\"\",\"CityId\":\"TYOA-sky\",\"CountryName\":\"Japan\"},{\"PlaceId\":\"NRT-sky\",\"PlaceName\":\"Tokyo Narita\",\"CountryId\":\"JP-sky\",\"RegionId\":\"\",\"CityId\":\"TYOA-sky\",\"CountryName\":\"Japan\"},{\"PlaceId\":\"HND-sky\",\"PlaceName\":\"Tokyo Haneda\",\"CountryId\":\"JP-sky\",\"RegionId\":\"\",\"CityId\":\"TYOA-sky\",\"CountryName\":\"Japan\"},{\"PlaceId\":\"TJH-sky\",\"PlaceName\":\"Toyooka\",\"CountryId\":\"JP-sky\",\"RegionId\":\"\",\"CityId\":\"JTJH-sky\",\"CountryName\":\"Japan\"},{\"PlaceId\":\"OOK-sky\",\"PlaceName\":\"Toksook Bay\",\"CountryId\":\"US-sky\",\"RegionId\":\"AK\",\"CityId\":\"OOKA-sky\",\"CountryName\":\"United States\"},{\"PlaceId\":\"TKZ-sky\",\"PlaceName\":\"Tokoroa\",\"CountryId\":\"NZ-sky\",\"RegionId\":\"\",\"CityId\":\"TKZN-sky\",\"CountryName\":\"New Zealand\"}]}"
   ]
  },
  {
   "cell_type": "markdown",
   "metadata": {
    "id": "aFCfKQwo4YQm"
   },
   "source": [
    "To know the parameters we need to be able to connect properly to an API we should look first at its documentation. For the next query we will look at the prices for the flights from San Francisco to New York City in 2020/12/12"
   ]
  },
  {
   "cell_type": "code",
   "execution_count": 98,
   "metadata": {
    "colab": {
     "base_uri": "https://localhost:8080/"
    },
    "id": "tCPgOYVL4cn5",
    "outputId": "fa248589-4a4b-4c0d-c1a6-bdf1854c06cf"
   },
   "outputs": [
    {
     "data": {
      "text/plain": [
       "{'Quotes': [{'QuoteId': 1,\n",
       "   'MinPrice': 62,\n",
       "   'Direct': False,\n",
       "   'OutboundLeg': {'CarrierIds': [1065],\n",
       "    'OriginId': 81727,\n",
       "    'DestinationId': 50290,\n",
       "    'DepartureDate': '2020-12-12T00:00:00'},\n",
       "   'QuoteDateTime': '2020-11-23T21:49:00'},\n",
       "  {'QuoteId': 2,\n",
       "   'MinPrice': 85,\n",
       "   'Direct': True,\n",
       "   'OutboundLeg': {'CarrierIds': [851],\n",
       "    'OriginId': 81727,\n",
       "    'DestinationId': 50290,\n",
       "    'DepartureDate': '2020-12-12T00:00:00'},\n",
       "   'QuoteDateTime': '2020-11-23T21:49:00'}],\n",
       " 'Carriers': [{'CarrierId': 1065, 'Name': 'Frontier Airlines'},\n",
       "  {'CarrierId': 851, 'Name': 'Alaska Airlines'}],\n",
       " 'Places': [{'Name': 'New York Newark',\n",
       "   'Type': 'Station',\n",
       "   'PlaceId': 50290,\n",
       "   'IataCode': 'EWR',\n",
       "   'SkyscannerCode': 'EWR',\n",
       "   'CityName': 'New York',\n",
       "   'CityId': 'NYCA',\n",
       "   'CountryName': 'United States'},\n",
       "  {'Name': 'San Francisco International',\n",
       "   'Type': 'Station',\n",
       "   'PlaceId': 81727,\n",
       "   'IataCode': 'SFO',\n",
       "   'SkyscannerCode': 'SFO',\n",
       "   'CityName': 'San Francisco',\n",
       "   'CityId': 'SFOA',\n",
       "   'CountryName': 'United States'}],\n",
       " 'Currencies': [{'Code': 'USD',\n",
       "   'Symbol': '$',\n",
       "   'ThousandsSeparator': ',',\n",
       "   'DecimalSeparator': '.',\n",
       "   'SymbolOnLeft': True,\n",
       "   'SpaceBetweenAmountAndSymbol': False,\n",
       "   'RoundingCoefficient': 0,\n",
       "   'DecimalDigits': 2}]}"
      ]
     },
     "execution_count": 98,
     "metadata": {},
     "output_type": "execute_result"
    }
   ],
   "source": [
    "url = \"https://skyscanner-skyscanner-flight-search-v1.p.rapidapi.com/apiservices/browsequotes/v1.0/US/USD/en-US/SFO-sky/NYCA-sky/2020-12-12\"\n",
    "\n",
    "params = {\"inboundpartialdate\":\"2020-12-12\"}\n",
    "\n",
    "#headers = {\n",
    "#    'x-rapidapi-host': \"skyscanner-skyscanner-flight-search-v1.p.rapidapi.com\",\n",
    "#    'x-rapidapi-key': \"<introduce your RapidAPI key here>\"}\n",
    "\n",
    "headers = {\n",
    "    'x-rapidapi-host': \"skyscanner-skyscanner-flight-search-v1.p.rapidapi.com\",\n",
    "    'x-rapidapi-key': x_rapidapi_key}    \n",
    "\n",
    "response = requests.get(url, headers=headers, params=params)\n",
    "\n",
    "response.json()"
   ]
  },
  {
   "cell_type": "markdown",
   "metadata": {
    "id": "U0p1XHeg4zNX"
   },
   "source": [
    "The output will be:\n",
    "\n",
    "{'Quotes': [{'QuoteId': 1,\n",
    "   'MinPrice': 92.0,\n",
    "   'Direct': False,\n",
    "   'OutboundLeg': {'CarrierIds': [1065],\n",
    "    'OriginId': 81727,\n",
    "    'DestinationId': 50290,\n",
    "    'DepartureDate': '2020-12-12T00:00:00'},\n",
    "   'QuoteDateTime': '2020-09-21T10:49:00'},\n",
    "  {'QuoteId': 2,\n",
    "   'MinPrice': 133.0,\n",
    "   'Direct': True,\n",
    "   'OutboundLeg': {'CarrierIds': [851],\n",
    "    'OriginId': 81727,\n",
    "    'DestinationId': 50290,\n",
    "    'DepartureDate': '2020-12-12T00:00:00'},\n",
    "   'QuoteDateTime': '2020-09-21T10:49:00'}],\n",
    " 'Places': [{'PlaceId': 50290,\n",
    "   'IataCode': 'EWR',\n",
    "   'Name': 'New York Newark',\n",
    "   'Type': 'Station',\n",
    "   'SkyscannerCode': 'EWR',\n",
    "   'CityName': 'New York',\n",
    "   'CityId': 'NYCA',\n",
    "   'CountryName': 'United States'},\n",
    "  {'PlaceId': 60987,\n",
    "   'IataCode': 'JFK',\n",
    "   'Name': 'New York John F. Kennedy',\n",
    "   'Type': 'Station',\n",
    "   'SkyscannerCode': 'JFK',\n",
    "   'CityName': 'New York',\n",
    "   'CityId': 'NYCA',\n",
    "   'CountryName': 'United States'},\n",
    "  {'PlaceId': 65633,\n",
    "   'IataCode': 'LGA',\n",
    "   'Name': 'New York LaGuardia',\n",
    "   'Type': 'Station',\n",
    "   'SkyscannerCode': 'LGA',\n",
    "   'CityName': 'New York',\n",
    "   'CityId': 'NYCA',\n",
    "   'CountryName': 'United States'},\n",
    "  {'PlaceId': 81727,\n",
    "   'IataCode': 'SFO',\n",
    "   'Name': 'San Francisco International',\n",
    "   'Type': 'Station',\n",
    "   'SkyscannerCode': 'SFO',\n",
    "   'CityName': 'San Francisco',\n",
    "   'CityId': 'SFOA',\n",
    "   'CountryName': 'United States'}],\n",
    " 'Carriers': [{'CarrierId': 819, 'Name': 'Aegean Airlines'},\n",
    "  {'CarrierId': 851, 'Name': 'Alaska Airlines'},\n",
    "  {'CarrierId': 870, 'Name': 'jetBlue'},\n",
    "  {'CarrierId': 1065, 'Name': 'Frontier Airlines'},\n",
    "  {'CarrierId': 1721, 'Name': 'Sun Country Airlines'},\n",
    "  {'CarrierId': 1793, 'Name': 'United'},\n",
    "  {'CarrierId': 1902, 'Name': 'Southwest Airlines'}],\n",
    " 'Currencies': [{'Code': 'USD',\n",
    "   'Symbol': '$',\n",
    "   'ThousandsSeparator': ',',\n",
    "   'DecimalSeparator': '.',\n",
    "   'SymbolOnLeft': True,\n",
    "   'SpaceBetweenAmountAndSymbol': False,\n",
    "   'RoundingCoefficient': 0,\n",
    "   'DecimalDigits': 2}]}"
   ]
  },
  {
   "cell_type": "markdown",
   "metadata": {
    "id": "0UcU0iGM64BS"
   },
   "source": [
    "# Lesson 3"
   ]
  },
  {
   "cell_type": "markdown",
   "metadata": {
    "id": "n3X6CkVg67sJ"
   },
   "source": [
    "## Handling JSON files"
   ]
  },
  {
   "cell_type": "code",
   "execution_count": 99,
   "metadata": {
    "id": "MoueEIHV67Hp"
   },
   "outputs": [],
   "source": [
    "# Import libraries\n",
    "import pandas as pd\n",
    "import json"
   ]
  },
  {
   "cell_type": "code",
   "execution_count": 100,
   "metadata": {
    "id": "udCQwA197MGR"
   },
   "outputs": [],
   "source": [
    "my_response = {'Quotes': [{'QuoteId': 1,\n",
    "   'MinPrice': 92.0,\n",
    "   'Direct': False,\n",
    "   'OutboundLeg': {'CarrierIds': [1065],\n",
    "    'OriginId': 81727,\n",
    "    'DestinationId': 50290,\n",
    "    'DepartureDate': '2020-12-12T00:00:00'},\n",
    "   'QuoteDateTime': '2020-09-21T10:49:00'},\n",
    "  {'QuoteId': 2,\n",
    "   'MinPrice': 133.0,\n",
    "   'Direct': True,\n",
    "   'OutboundLeg': {'CarrierIds': [851],\n",
    "    'OriginId': 81727,\n",
    "    'DestinationId': 50290,\n",
    "    'DepartureDate': '2020-12-12T00:00:00'},\n",
    "   'QuoteDateTime': '2020-09-21T10:49:00'}],\n",
    " 'Places': [{'PlaceId': 50290,\n",
    "   'IataCode': 'EWR',\n",
    "   'Name': 'New York Newark',\n",
    "   'Type': 'Station',\n",
    "   'SkyscannerCode': 'EWR',\n",
    "   'CityName': 'New York',\n",
    "   'CityId': 'NYCA',\n",
    "   'CountryName': 'United States'},\n",
    "  {'PlaceId': 60987,\n",
    "   'IataCode': 'JFK',\n",
    "   'Name': 'New York John F. Kennedy',\n",
    "   'Type': 'Station',\n",
    "   'SkyscannerCode': 'JFK',\n",
    "   'CityName': 'New York',\n",
    "   'CityId': 'NYCA',\n",
    "   'CountryName': 'United States'},\n",
    "  {'PlaceId': 65633,\n",
    "   'IataCode': 'LGA',\n",
    "   'Name': 'New York LaGuardia',\n",
    "   'Type': 'Station',\n",
    "   'SkyscannerCode': 'LGA',\n",
    "   'CityName': 'New York',\n",
    "   'CityId': 'NYCA',\n",
    "   'CountryName': 'United States'},\n",
    "  {'PlaceId': 81727,\n",
    "   'IataCode': 'SFO',\n",
    "   'Name': 'San Francisco International',\n",
    "   'Type': 'Station',\n",
    "   'SkyscannerCode': 'SFO',\n",
    "   'CityName': 'San Francisco',\n",
    "   'CityId': 'SFOA',\n",
    "   'CountryName': 'United States'}],\n",
    " 'Carriers': [{'CarrierId': 819, 'Name': 'Aegean Airlines'},\n",
    "  {'CarrierId': 851, 'Name': 'Alaska Airlines'},\n",
    "  {'CarrierId': 870, 'Name': 'jetBlue'},\n",
    "  {'CarrierId': 1065, 'Name': 'Frontier Airlines'},\n",
    "  {'CarrierId': 1721, 'Name': 'Sun Country Airlines'},\n",
    "  {'CarrierId': 1793, 'Name': 'United'},\n",
    "  {'CarrierId': 1902, 'Name': 'Southwest Airlines'}],\n",
    " 'Currencies': [{'Code': 'USD',\n",
    "   'Symbol': '$',\n",
    "   'ThousandsSeparator': ',',\n",
    "   'DecimalSeparator': '.',\n",
    "   'SymbolOnLeft': True,\n",
    "   'SpaceBetweenAmountAndSymbol': False,\n",
    "   'RoundingCoefficient': 0,\n",
    "   'DecimalDigits': 2}]}"
   ]
  },
  {
   "cell_type": "code",
   "execution_count": 101,
   "metadata": {
    "colab": {
     "base_uri": "https://localhost:8080/",
     "height": 94
    },
    "id": "hFrbIYtj7Dx3",
    "outputId": "7be0d5d8-6805-471a-8273-c61e4390f330"
   },
   "outputs": [
    {
     "data": {
      "text/html": [
       "<div>\n",
       "<style scoped>\n",
       "    .dataframe tbody tr th:only-of-type {\n",
       "        vertical-align: middle;\n",
       "    }\n",
       "\n",
       "    .dataframe tbody tr th {\n",
       "        vertical-align: top;\n",
       "    }\n",
       "\n",
       "    .dataframe thead th {\n",
       "        text-align: right;\n",
       "    }\n",
       "</style>\n",
       "<table border=\"1\" class=\"dataframe\">\n",
       "  <thead>\n",
       "    <tr style=\"text-align: right;\">\n",
       "      <th></th>\n",
       "      <th>Quotes</th>\n",
       "      <th>Places</th>\n",
       "      <th>Carriers</th>\n",
       "      <th>Currencies</th>\n",
       "    </tr>\n",
       "  </thead>\n",
       "  <tbody>\n",
       "    <tr>\n",
       "      <th>0</th>\n",
       "      <td>[{'QuoteId': 1, 'MinPrice': 92.0, 'Direct': Fa...</td>\n",
       "      <td>[{'PlaceId': 50290, 'IataCode': 'EWR', 'Name':...</td>\n",
       "      <td>[{'CarrierId': 819, 'Name': 'Aegean Airlines'}...</td>\n",
       "      <td>[{'Code': 'USD', 'Symbol': '$', 'ThousandsSepa...</td>\n",
       "    </tr>\n",
       "  </tbody>\n",
       "</table>\n",
       "</div>"
      ],
      "text/plain": [
       "                                              Quotes  \\\n",
       "0  [{'QuoteId': 1, 'MinPrice': 92.0, 'Direct': Fa...   \n",
       "\n",
       "                                              Places  \\\n",
       "0  [{'PlaceId': 50290, 'IataCode': 'EWR', 'Name':...   \n",
       "\n",
       "                                            Carriers  \\\n",
       "0  [{'CarrierId': 819, 'Name': 'Aegean Airlines'}...   \n",
       "\n",
       "                                          Currencies  \n",
       "0  [{'Code': 'USD', 'Symbol': '$', 'ThousandsSepa...  "
      ]
     },
     "execution_count": 101,
     "metadata": {},
     "output_type": "execute_result"
    }
   ],
   "source": [
    "pd.json_normalize(my_response)\n",
    "# If this doesn't work, try to import json_normalize directly from pandas.io.json"
   ]
  },
  {
   "cell_type": "markdown",
   "metadata": {
    "id": "NW0qEWPm7kCe"
   },
   "source": [
    "As an output we have a DataFrame with 4 columns, Quotes, Places, Carriers and Currencies, but the values will also be in JSON format. From this we can infere that we are not working with a dataset, but a relational database, and the columns are the datasets we were looking for. Let's transform them into pd.DataFrames:"
   ]
  },
  {
   "cell_type": "code",
   "execution_count": 102,
   "metadata": {
    "colab": {
     "base_uri": "https://localhost:8080/",
     "height": 611
    },
    "id": "hfC84eFB7rAK",
    "outputId": "692ea4dd-5a39-4ea7-a9c6-0779f6085f63"
   },
   "outputs": [
    {
     "name": "stdout",
     "output_type": "stream",
     "text": [
      "Quotes DataFrame extract: \n"
     ]
    },
    {
     "data": {
      "text/html": [
       "<div>\n",
       "<style scoped>\n",
       "    .dataframe tbody tr th:only-of-type {\n",
       "        vertical-align: middle;\n",
       "    }\n",
       "\n",
       "    .dataframe tbody tr th {\n",
       "        vertical-align: top;\n",
       "    }\n",
       "\n",
       "    .dataframe thead th {\n",
       "        text-align: right;\n",
       "    }\n",
       "</style>\n",
       "<table border=\"1\" class=\"dataframe\">\n",
       "  <thead>\n",
       "    <tr style=\"text-align: right;\">\n",
       "      <th></th>\n",
       "      <th>QuoteId</th>\n",
       "      <th>MinPrice</th>\n",
       "      <th>Direct</th>\n",
       "      <th>OutboundLeg</th>\n",
       "      <th>QuoteDateTime</th>\n",
       "    </tr>\n",
       "  </thead>\n",
       "  <tbody>\n",
       "    <tr>\n",
       "      <th>0</th>\n",
       "      <td>1</td>\n",
       "      <td>92.0</td>\n",
       "      <td>False</td>\n",
       "      <td>{'CarrierIds': [1065], 'OriginId': 81727, 'Des...</td>\n",
       "      <td>2020-09-21T10:49:00</td>\n",
       "    </tr>\n",
       "    <tr>\n",
       "      <th>1</th>\n",
       "      <td>2</td>\n",
       "      <td>133.0</td>\n",
       "      <td>True</td>\n",
       "      <td>{'CarrierIds': [851], 'OriginId': 81727, 'Dest...</td>\n",
       "      <td>2020-09-21T10:49:00</td>\n",
       "    </tr>\n",
       "  </tbody>\n",
       "</table>\n",
       "</div>"
      ],
      "text/plain": [
       "   QuoteId  MinPrice  Direct  \\\n",
       "0        1      92.0   False   \n",
       "1        2     133.0    True   \n",
       "\n",
       "                                         OutboundLeg        QuoteDateTime  \n",
       "0  {'CarrierIds': [1065], 'OriginId': 81727, 'Des...  2020-09-21T10:49:00  \n",
       "1  {'CarrierIds': [851], 'OriginId': 81727, 'Dest...  2020-09-21T10:49:00  "
      ]
     },
     "metadata": {},
     "output_type": "display_data"
    },
    {
     "name": "stdout",
     "output_type": "stream",
     "text": [
      "\n",
      "Carriers DataFrame extract: \n"
     ]
    },
    {
     "data": {
      "text/html": [
       "<div>\n",
       "<style scoped>\n",
       "    .dataframe tbody tr th:only-of-type {\n",
       "        vertical-align: middle;\n",
       "    }\n",
       "\n",
       "    .dataframe tbody tr th {\n",
       "        vertical-align: top;\n",
       "    }\n",
       "\n",
       "    .dataframe thead th {\n",
       "        text-align: right;\n",
       "    }\n",
       "</style>\n",
       "<table border=\"1\" class=\"dataframe\">\n",
       "  <thead>\n",
       "    <tr style=\"text-align: right;\">\n",
       "      <th></th>\n",
       "      <th>CarrierId</th>\n",
       "      <th>Name</th>\n",
       "    </tr>\n",
       "  </thead>\n",
       "  <tbody>\n",
       "    <tr>\n",
       "      <th>0</th>\n",
       "      <td>819</td>\n",
       "      <td>Aegean Airlines</td>\n",
       "    </tr>\n",
       "    <tr>\n",
       "      <th>1</th>\n",
       "      <td>851</td>\n",
       "      <td>Alaska Airlines</td>\n",
       "    </tr>\n",
       "    <tr>\n",
       "      <th>2</th>\n",
       "      <td>870</td>\n",
       "      <td>jetBlue</td>\n",
       "    </tr>\n",
       "    <tr>\n",
       "      <th>3</th>\n",
       "      <td>1065</td>\n",
       "      <td>Frontier Airlines</td>\n",
       "    </tr>\n",
       "    <tr>\n",
       "      <th>4</th>\n",
       "      <td>1721</td>\n",
       "      <td>Sun Country Airlines</td>\n",
       "    </tr>\n",
       "  </tbody>\n",
       "</table>\n",
       "</div>"
      ],
      "text/plain": [
       "   CarrierId                  Name\n",
       "0        819       Aegean Airlines\n",
       "1        851       Alaska Airlines\n",
       "2        870               jetBlue\n",
       "3       1065     Frontier Airlines\n",
       "4       1721  Sun Country Airlines"
      ]
     },
     "metadata": {},
     "output_type": "display_data"
    },
    {
     "name": "stdout",
     "output_type": "stream",
     "text": [
      "\n",
      "Places DataFrame extract: \n"
     ]
    },
    {
     "data": {
      "text/html": [
       "<div>\n",
       "<style scoped>\n",
       "    .dataframe tbody tr th:only-of-type {\n",
       "        vertical-align: middle;\n",
       "    }\n",
       "\n",
       "    .dataframe tbody tr th {\n",
       "        vertical-align: top;\n",
       "    }\n",
       "\n",
       "    .dataframe thead th {\n",
       "        text-align: right;\n",
       "    }\n",
       "</style>\n",
       "<table border=\"1\" class=\"dataframe\">\n",
       "  <thead>\n",
       "    <tr style=\"text-align: right;\">\n",
       "      <th></th>\n",
       "      <th>PlaceId</th>\n",
       "      <th>IataCode</th>\n",
       "      <th>Name</th>\n",
       "      <th>Type</th>\n",
       "      <th>SkyscannerCode</th>\n",
       "      <th>CityName</th>\n",
       "      <th>CityId</th>\n",
       "      <th>CountryName</th>\n",
       "    </tr>\n",
       "  </thead>\n",
       "  <tbody>\n",
       "    <tr>\n",
       "      <th>0</th>\n",
       "      <td>50290</td>\n",
       "      <td>EWR</td>\n",
       "      <td>New York Newark</td>\n",
       "      <td>Station</td>\n",
       "      <td>EWR</td>\n",
       "      <td>New York</td>\n",
       "      <td>NYCA</td>\n",
       "      <td>United States</td>\n",
       "    </tr>\n",
       "    <tr>\n",
       "      <th>1</th>\n",
       "      <td>60987</td>\n",
       "      <td>JFK</td>\n",
       "      <td>New York John F. Kennedy</td>\n",
       "      <td>Station</td>\n",
       "      <td>JFK</td>\n",
       "      <td>New York</td>\n",
       "      <td>NYCA</td>\n",
       "      <td>United States</td>\n",
       "    </tr>\n",
       "    <tr>\n",
       "      <th>2</th>\n",
       "      <td>65633</td>\n",
       "      <td>LGA</td>\n",
       "      <td>New York LaGuardia</td>\n",
       "      <td>Station</td>\n",
       "      <td>LGA</td>\n",
       "      <td>New York</td>\n",
       "      <td>NYCA</td>\n",
       "      <td>United States</td>\n",
       "    </tr>\n",
       "    <tr>\n",
       "      <th>3</th>\n",
       "      <td>81727</td>\n",
       "      <td>SFO</td>\n",
       "      <td>San Francisco International</td>\n",
       "      <td>Station</td>\n",
       "      <td>SFO</td>\n",
       "      <td>San Francisco</td>\n",
       "      <td>SFOA</td>\n",
       "      <td>United States</td>\n",
       "    </tr>\n",
       "  </tbody>\n",
       "</table>\n",
       "</div>"
      ],
      "text/plain": [
       "   PlaceId IataCode                         Name     Type SkyscannerCode  \\\n",
       "0    50290      EWR              New York Newark  Station            EWR   \n",
       "1    60987      JFK     New York John F. Kennedy  Station            JFK   \n",
       "2    65633      LGA           New York LaGuardia  Station            LGA   \n",
       "3    81727      SFO  San Francisco International  Station            SFO   \n",
       "\n",
       "        CityName CityId    CountryName  \n",
       "0       New York   NYCA  United States  \n",
       "1       New York   NYCA  United States  \n",
       "2       New York   NYCA  United States  \n",
       "3  San Francisco   SFOA  United States  "
      ]
     },
     "metadata": {},
     "output_type": "display_data"
    },
    {
     "name": "stdout",
     "output_type": "stream",
     "text": [
      "\n",
      "Currencies DataFrame extract: \n"
     ]
    },
    {
     "data": {
      "text/html": [
       "<div>\n",
       "<style scoped>\n",
       "    .dataframe tbody tr th:only-of-type {\n",
       "        vertical-align: middle;\n",
       "    }\n",
       "\n",
       "    .dataframe tbody tr th {\n",
       "        vertical-align: top;\n",
       "    }\n",
       "\n",
       "    .dataframe thead th {\n",
       "        text-align: right;\n",
       "    }\n",
       "</style>\n",
       "<table border=\"1\" class=\"dataframe\">\n",
       "  <thead>\n",
       "    <tr style=\"text-align: right;\">\n",
       "      <th></th>\n",
       "      <th>Code</th>\n",
       "      <th>Symbol</th>\n",
       "      <th>ThousandsSeparator</th>\n",
       "      <th>DecimalSeparator</th>\n",
       "      <th>SymbolOnLeft</th>\n",
       "      <th>SpaceBetweenAmountAndSymbol</th>\n",
       "      <th>RoundingCoefficient</th>\n",
       "      <th>DecimalDigits</th>\n",
       "    </tr>\n",
       "  </thead>\n",
       "  <tbody>\n",
       "    <tr>\n",
       "      <th>0</th>\n",
       "      <td>USD</td>\n",
       "      <td>$</td>\n",
       "      <td>,</td>\n",
       "      <td>.</td>\n",
       "      <td>True</td>\n",
       "      <td>False</td>\n",
       "      <td>0</td>\n",
       "      <td>2</td>\n",
       "    </tr>\n",
       "  </tbody>\n",
       "</table>\n",
       "</div>"
      ],
      "text/plain": [
       "  Code Symbol ThousandsSeparator DecimalSeparator  SymbolOnLeft  \\\n",
       "0  USD      $                  ,                .          True   \n",
       "\n",
       "   SpaceBetweenAmountAndSymbol  RoundingCoefficient  DecimalDigits  \n",
       "0                        False                    0              2  "
      ]
     },
     "metadata": {},
     "output_type": "display_data"
    }
   ],
   "source": [
    "quotes = pd.DataFrame(pd.json_normalize(my_response)[\"Quotes\"][0])\n",
    "carriers = pd.DataFrame(pd.json_normalize(my_response)[\"Carriers\"][0])\n",
    "places = pd.DataFrame(pd.json_normalize(my_response)[\"Places\"][0])\n",
    "currencies = pd.DataFrame(pd.json_normalize(my_response)[\"Currencies\"][0])\n",
    "\n",
    "print(\"Quotes DataFrame extract: \")\n",
    "display(quotes.head())\n",
    "print()\n",
    "print(\"Carriers DataFrame extract: \")\n",
    "display(carriers.head())\n",
    "print()\n",
    "print(\"Places DataFrame extract: \")\n",
    "display(places.head())\n",
    "print()\n",
    "print(\"Currencies DataFrame extract: \")\n",
    "display(currencies.head())"
   ]
  },
  {
   "cell_type": "markdown",
   "metadata": {
    "id": "UZnIx-xB9FUk"
   },
   "source": [
    "After reviewing and printing our data we can conclude that quotes are the flights we have for our selected origin and destination (just one in this case), places are the airports we could travel from and to, carriers are the companies usually have the kind of trip we have chosen, and currency is self-explanatory.\n",
    "\n",
    "However we still have another json in one of the datasets, in Quotes, variable [\"OutboundLeg\"], that's due to the same principle we have been working for during this lesson, relational databases. Let's unfold that variable:"
   ]
  },
  {
   "cell_type": "code",
   "execution_count": 103,
   "metadata": {
    "colab": {
     "base_uri": "https://localhost:8080/",
     "height": 77
    },
    "id": "shjeQaDf9Up0",
    "outputId": "d2b3d214-91c6-4269-d362-6be6d585993f"
   },
   "outputs": [
    {
     "data": {
      "text/html": [
       "<div>\n",
       "<style scoped>\n",
       "    .dataframe tbody tr th:only-of-type {\n",
       "        vertical-align: middle;\n",
       "    }\n",
       "\n",
       "    .dataframe tbody tr th {\n",
       "        vertical-align: top;\n",
       "    }\n",
       "\n",
       "    .dataframe thead th {\n",
       "        text-align: right;\n",
       "    }\n",
       "</style>\n",
       "<table border=\"1\" class=\"dataframe\">\n",
       "  <thead>\n",
       "    <tr style=\"text-align: right;\">\n",
       "      <th></th>\n",
       "      <th>CarrierIds</th>\n",
       "      <th>OriginId</th>\n",
       "      <th>DestinationId</th>\n",
       "      <th>DepartureDate</th>\n",
       "    </tr>\n",
       "  </thead>\n",
       "  <tbody>\n",
       "    <tr>\n",
       "      <th>0</th>\n",
       "      <td>1065</td>\n",
       "      <td>81727</td>\n",
       "      <td>50290</td>\n",
       "      <td>2020-12-12T00:00:00</td>\n",
       "    </tr>\n",
       "  </tbody>\n",
       "</table>\n",
       "</div>"
      ],
      "text/plain": [
       "   CarrierIds  OriginId  DestinationId        DepartureDate\n",
       "0        1065     81727          50290  2020-12-12T00:00:00"
      ]
     },
     "execution_count": 103,
     "metadata": {},
     "output_type": "execute_result"
    }
   ],
   "source": [
    "flights = pd.DataFrame(pd.DataFrame(pd.json_normalize(my_response)[\"Quotes\"][0])[\"OutboundLeg\"][0])\n",
    "flights.head()"
   ]
  },
  {
   "cell_type": "markdown",
   "metadata": {
    "id": "PWSWqei0-1hD"
   },
   "source": [
    "# Lesson 4"
   ]
  },
  {
   "cell_type": "markdown",
   "metadata": {
    "id": "1bP6I_kv-626"
   },
   "source": [
    "Now that we know what JSON is and we have connected to the skyscanner API let's work with it. In this lesson we will create a function for which if we introduce two dates, an origin and a destination we will get the data from the cheapest flight between these two dates."
   ]
  },
  {
   "cell_type": "markdown",
   "metadata": {
    "id": "sBewBBHdBC9v"
   },
   "source": [
    "We will start by creating a function that takes two dates and return a list of dates between the given ones. Luckily, there is a pandas method for that."
   ]
  },
  {
   "cell_type": "code",
   "execution_count": 104,
   "metadata": {
    "colab": {
     "base_uri": "https://localhost:8080/"
    },
    "id": "hjg1yQmsBGJ1",
    "outputId": "79dd6d4b-41df-4845-80b2-6cd684b36d73"
   },
   "outputs": [
    {
     "data": {
      "text/plain": [
       "0     1992-01-01\n",
       "1     1992-01-02\n",
       "2     1992-01-03\n",
       "3     1992-01-04\n",
       "4     1992-01-05\n",
       "5     1992-01-06\n",
       "6     1992-01-07\n",
       "7     1992-01-08\n",
       "8     1992-01-09\n",
       "9     1992-01-10\n",
       "10    1992-01-11\n",
       "11    1992-01-12\n",
       "12    1992-01-13\n",
       "13    1992-01-14\n",
       "14    1992-01-15\n",
       "15    1992-01-16\n",
       "16    1992-01-17\n",
       "17    1992-01-18\n",
       "18    1992-01-19\n",
       "19    1992-01-20\n",
       "dtype: object"
      ]
     },
     "execution_count": 104,
     "metadata": {},
     "output_type": "execute_result"
    }
   ],
   "source": [
    "def get_dates(start, end):\n",
    "    return pd.Series(pd.date_range(start, end,freq='d').format())\n",
    "\n",
    "get_dates('1992-01-01','1992-01-20')"
   ]
  },
  {
   "cell_type": "code",
   "execution_count": 105,
   "metadata": {
    "id": "mXSizKH8lSGt"
   },
   "outputs": [],
   "source": [
    "def city_code(city_name):\n",
    "    url = \"https://skyscanner-skyscanner-flight-search-v1.p.rapidapi.com/apiservices/autosuggest/v1.0/US/USD/en-US/\"\n",
    "\n",
    "    params = {\"query\": city_name}\n",
    "\n",
    "    headers = {'x-rapidapi-host': \"skyscanner-skyscanner-flight-search-v1.p.rapidapi.com\",\n",
    "                      'x-rapidapi-key': x_rapidapi_key}\n",
    "\n",
    "    response = requests.get(url, headers = headers, params = params)\n",
    "\n",
    "    return response.json()[\"Places\"][0][\"PlaceId\"]"
   ]
  },
  {
   "cell_type": "code",
   "execution_count": 106,
   "metadata": {
    "colab": {
     "base_uri": "https://localhost:8080/",
     "height": 35
    },
    "id": "IkD_su4SloCW",
    "outputId": "9d2297ba-ca11-491b-b7e3-491359ebbd3b"
   },
   "outputs": [
    {
     "data": {
      "text/plain": [
       "'LOND-sky'"
      ]
     },
     "execution_count": 106,
     "metadata": {},
     "output_type": "execute_result"
    }
   ],
   "source": [
    "city_code('London')"
   ]
  },
  {
   "cell_type": "code",
   "execution_count": 107,
   "metadata": {},
   "outputs": [],
   "source": [
    "# exercise\n",
    "def flight_prices(departure, arrival, date):\n",
    "#     date in format 2020-12-10\n",
    "    departure_code = city_code(departure)\n",
    "    arrival_code = city_code(arrival)\n",
    "    \n",
    "    url = f\"https://skyscanner-skyscanner-flight-search-v1.p.rapidapi.com/apiservices/browsequotes/v1.0/US/USD/en-US/{departure_code}/{arrival_code}/{date}\"    \n",
    "    \n",
    "    headers = {\n",
    "    'x-rapidapi-host': \"skyscanner-skyscanner-flight-search-v1.p.rapidapi.com\",\n",
    "    'x-rapidapi-key': x_rapidapi_key}\n",
    "\n",
    "    response = requests.get(url, headers=headers, params=params)\n",
    "    \n",
    "    return response.json()\n",
    "    "
   ]
  },
  {
   "cell_type": "code",
   "execution_count": 108,
   "metadata": {},
   "outputs": [
    {
     "data": {
      "text/plain": [
       "{'Quotes': [{'QuoteId': 1,\n",
       "   'MinPrice': 1156,\n",
       "   'Direct': False,\n",
       "   'OutboundLeg': {'CarrierIds': [1035],\n",
       "    'OriginId': 44759,\n",
       "    'DestinationId': 75575,\n",
       "    'DepartureDate': '2020-12-10T00:00:00'},\n",
       "   'QuoteDateTime': '2020-11-24T12:48:00'}],\n",
       " 'Carriers': [{'CarrierId': 1035, 'Name': 'Emirates'}],\n",
       " 'Places': [{'Name': 'Paris Charles de Gaulle',\n",
       "   'Type': 'Station',\n",
       "   'PlaceId': 44759,\n",
       "   'IataCode': 'CDG',\n",
       "   'SkyscannerCode': 'CDG',\n",
       "   'CityName': 'Paris',\n",
       "   'CityId': 'PARI',\n",
       "   'CountryName': 'France'},\n",
       "  {'Name': 'Shanghai Pu Dong',\n",
       "   'Type': 'Station',\n",
       "   'PlaceId': 75575,\n",
       "   'IataCode': 'PVG',\n",
       "   'SkyscannerCode': 'PVG',\n",
       "   'CityName': 'Shanghai',\n",
       "   'CityId': 'CSHA',\n",
       "   'CountryName': 'China'},\n",
       "  {'Name': 'Paris',\n",
       "   'Type': 'City',\n",
       "   'PlaceId': 3579769,\n",
       "   'SkyscannerCode': 'PARI',\n",
       "   'CityId': 'PARI',\n",
       "   'CountryName': 'France'}],\n",
       " 'Currencies': [{'Code': 'USD',\n",
       "   'Symbol': '$',\n",
       "   'ThousandsSeparator': ',',\n",
       "   'DecimalSeparator': '.',\n",
       "   'SymbolOnLeft': True,\n",
       "   'SpaceBetweenAmountAndSymbol': False,\n",
       "   'RoundingCoefficient': 0,\n",
       "   'DecimalDigits': 2}]}"
      ]
     },
     "execution_count": 108,
     "metadata": {},
     "output_type": "execute_result"
    }
   ],
   "source": [
    "flight_prices('Paris', 'Shanghai','2020-12-10')"
   ]
  },
  {
   "cell_type": "markdown",
   "metadata": {
    "id": "_U9PYsETrT35"
   },
   "source": [
    "Let's use the funtion to get the flights between two destinations on a given date."
   ]
  },
  {
   "cell_type": "code",
   "execution_count": 109,
   "metadata": {
    "colab": {
     "base_uri": "https://localhost:8080/"
    },
    "id": "MSD8p3AQq7dA",
    "outputId": "5a058981-5cb0-4ac0-f81f-da24fbe90f14"
   },
   "outputs": [
    {
     "data": {
      "text/plain": [
       "{'Quotes': [{'QuoteId': 1,\n",
       "   'MinPrice': 61,\n",
       "   'Direct': True,\n",
       "   'OutboundLeg': {'CarrierIds': [881],\n",
       "    'OriginId': 44759,\n",
       "    'DestinationId': 65698,\n",
       "    'DepartureDate': '2020-12-10T00:00:00'},\n",
       "   'QuoteDateTime': '2020-11-24T11:03:00'}],\n",
       " 'Carriers': [{'CarrierId': 881, 'Name': 'British Airways'}],\n",
       " 'Places': [{'Name': 'Paris Charles de Gaulle',\n",
       "   'Type': 'Station',\n",
       "   'PlaceId': 44759,\n",
       "   'IataCode': 'CDG',\n",
       "   'SkyscannerCode': 'CDG',\n",
       "   'CityName': 'Paris',\n",
       "   'CityId': 'PARI',\n",
       "   'CountryName': 'France'},\n",
       "  {'Name': 'London Heathrow',\n",
       "   'Type': 'Station',\n",
       "   'PlaceId': 65698,\n",
       "   'IataCode': 'LHR',\n",
       "   'SkyscannerCode': 'LHR',\n",
       "   'CityName': 'London',\n",
       "   'CityId': 'LOND',\n",
       "   'CountryName': 'United Kingdom'},\n",
       "  {'Name': 'Paris',\n",
       "   'Type': 'City',\n",
       "   'PlaceId': 3579769,\n",
       "   'SkyscannerCode': 'PARI',\n",
       "   'CityId': 'PARI',\n",
       "   'CountryName': 'France'}],\n",
       " 'Currencies': [{'Code': 'USD',\n",
       "   'Symbol': '$',\n",
       "   'ThousandsSeparator': ',',\n",
       "   'DecimalSeparator': '.',\n",
       "   'SymbolOnLeft': True,\n",
       "   'SpaceBetweenAmountAndSymbol': False,\n",
       "   'RoundingCoefficient': 0,\n",
       "   'DecimalDigits': 2}]}"
      ]
     },
     "execution_count": 109,
     "metadata": {},
     "output_type": "execute_result"
    }
   ],
   "source": [
    "# def flight_prices(departure, arrival, date):\n",
    "\n",
    "#     departure_code = city_code(departure)\n",
    "#     arrival_code = city_code(arrival)\n",
    "#     url = f\"https://skyscanner-skyscanner-flight-search-v1.p.rapidapi.com/apiservices/browsequotes/v1.0/US/USD/en-US/{departure_code}/{arrival_code}/{date}\"\n",
    "\n",
    "#     params = {\"inboundpartialdate\":{date}}\n",
    "\n",
    "#     #headers = {\n",
    "#     #'x-rapidapi-host': \"skyscanner-skyscanner-flight-search-v1.p.rapidapi.com\",\n",
    "#     #'x-rapidapi-key': \"<introduce your RapidAPI key here>\"}\n",
    "\n",
    "#     headers = {\n",
    "#     'x-rapidapi-host': \"skyscanner-skyscanner-flight-search-v1.p.rapidapi.com\",\n",
    "#     'x-rapidapi-key': x_rapidapi_key}\n",
    "\n",
    "#     response = requests.get(url, headers=headers, params=params)\n",
    "\n",
    "#     return response.json()\n",
    "\n",
    "# flight_prices('Paris', 'London','2020-12-10')"
   ]
  },
  {
   "cell_type": "markdown",
   "metadata": {
    "id": "4UiiSCKlBazH"
   },
   "source": [
    "Now that we already have our date function let's create another function that takes the origin, destination and dates as arguments. It will create a dictionary that has every day between the two dates and containts a call to the API with all the information about the days:"
   ]
  },
  {
   "cell_type": "code",
   "execution_count": 112,
   "metadata": {
    "colab": {
     "base_uri": "https://localhost:8080/"
    },
    "id": "WKjXvtR5Bo5J",
    "outputId": "ab15ba50-638e-4d1f-cd91-7f3852e13a45"
   },
   "outputs": [],
   "source": [
    "from  time import sleep\n",
    "\n",
    "def flight_days(origin, destination, start, end):\n",
    "    dates = get_dates(start, end)\n",
    "#     gets dates above\n",
    "\n",
    "    my_dict = {}\n",
    "    \n",
    "    for date in list(dates):\n",
    "        \n",
    "#     result = None\n",
    "#     while (result == None):\n",
    "\n",
    "        try: \n",
    "            result = flight_prices(origin, destination, date)\n",
    "#           result is not none break loop, if none, keep trying  \n",
    "            my_dict[date] = result\n",
    "\n",
    "        except: \n",
    "            print(\"Error from the API\")\n",
    "            sleep(60)\n",
    "                \n",
    "    return my_dict\n",
    "\n",
    "# everyday will be a key, value is number of flights for this day\n",
    "\n",
    "# flight_days('Paris','London','2020-11-26','2020-12-10')"
   ]
  },
  {
   "cell_type": "markdown",
   "metadata": {
    "id": "tpdeGmVSCGGr"
   },
   "source": [
    "Now let's create another function that returns the date of the cheapest flight."
   ]
  },
  {
   "cell_type": "code",
   "execution_count": 134,
   "metadata": {
    "id": "U2oOJQDwCLZv"
   },
   "outputs": [],
   "source": [
    "def lowest_price(origin, destination, start, end):\n",
    "    \n",
    "    flights = flight_days(origin, destination, start, end)\n",
    "\n",
    "    my_dict = {}\n",
    "    for date in flights:    \n",
    "        my_dict[date] = []\n",
    "        \n",
    "        for elem in flights[date]['Quotes']:\n",
    "\n",
    "            my_dict[date].append(elem['MinPrice'])\n",
    "            \n",
    "            print(\"The min price for this date is: \",\n",
    "                  min(my_dict[date])) \n",
    "\n",
    "#            my_dict[date] = min(my_dict[date]) \n",
    "    print(my_dict.values())\n",
    "    return min(my_dict.values())"
   ]
  },
  {
   "cell_type": "markdown",
   "metadata": {
    "id": "PpDfwQedCSyN"
   },
   "source": [
    "The problem with this code is that it just gets the first date as the only one even if there are other days with the same price. Try to fix that in the lab."
   ]
  },
  {
   "cell_type": "code",
   "execution_count": 135,
   "metadata": {},
   "outputs": [
    {
     "name": "stdout",
     "output_type": "stream",
     "text": [
      "Error from the API\n"
     ]
    },
    {
     "ename": "KeyboardInterrupt",
     "evalue": "",
     "output_type": "error",
     "traceback": [
      "\u001b[0;31m---------------------------------------------------------------------------\u001b[0m",
      "\u001b[0;31mKeyError\u001b[0m                                  Traceback (most recent call last)",
      "\u001b[0;32m<ipython-input-112-d3fb76829da4>\u001b[0m in \u001b[0;36mflight_days\u001b[0;34m(origin, destination, start, end)\u001b[0m\n\u001b[1;32m     14\u001b[0m         \u001b[0;32mtry\u001b[0m\u001b[0;34m:\u001b[0m\u001b[0;34m\u001b[0m\u001b[0;34m\u001b[0m\u001b[0m\n\u001b[0;32m---> 15\u001b[0;31m             \u001b[0mresult\u001b[0m \u001b[0;34m=\u001b[0m \u001b[0mflight_prices\u001b[0m\u001b[0;34m(\u001b[0m\u001b[0morigin\u001b[0m\u001b[0;34m,\u001b[0m \u001b[0mdestination\u001b[0m\u001b[0;34m,\u001b[0m \u001b[0mdate\u001b[0m\u001b[0;34m)\u001b[0m\u001b[0;34m\u001b[0m\u001b[0;34m\u001b[0m\u001b[0m\n\u001b[0m\u001b[1;32m     16\u001b[0m \u001b[0;31m#           result is not none break loop, if none, keep trying\u001b[0m\u001b[0;34m\u001b[0m\u001b[0;34m\u001b[0m\u001b[0;34m\u001b[0m\u001b[0m\n",
      "\u001b[0;32m<ipython-input-109-d14540a51fd4>\u001b[0m in \u001b[0;36mflight_prices\u001b[0;34m(departure, arrival, date)\u001b[0m\n\u001b[1;32m      2\u001b[0m \u001b[0;34m\u001b[0m\u001b[0m\n\u001b[0;32m----> 3\u001b[0;31m     \u001b[0mdeparture_code\u001b[0m \u001b[0;34m=\u001b[0m \u001b[0mcity_code\u001b[0m\u001b[0;34m(\u001b[0m\u001b[0mdeparture\u001b[0m\u001b[0;34m)\u001b[0m\u001b[0;34m\u001b[0m\u001b[0;34m\u001b[0m\u001b[0m\n\u001b[0m\u001b[1;32m      4\u001b[0m     \u001b[0marrival_code\u001b[0m \u001b[0;34m=\u001b[0m \u001b[0mcity_code\u001b[0m\u001b[0;34m(\u001b[0m\u001b[0marrival\u001b[0m\u001b[0;34m)\u001b[0m\u001b[0;34m\u001b[0m\u001b[0;34m\u001b[0m\u001b[0m\n",
      "\u001b[0;32m<ipython-input-105-3eb9e442e55c>\u001b[0m in \u001b[0;36mcity_code\u001b[0;34m(city_name)\u001b[0m\n\u001b[1;32m     10\u001b[0m \u001b[0;34m\u001b[0m\u001b[0m\n\u001b[0;32m---> 11\u001b[0;31m     \u001b[0;32mreturn\u001b[0m \u001b[0mresponse\u001b[0m\u001b[0;34m.\u001b[0m\u001b[0mjson\u001b[0m\u001b[0;34m(\u001b[0m\u001b[0;34m)\u001b[0m\u001b[0;34m[\u001b[0m\u001b[0;34m\"Places\"\u001b[0m\u001b[0;34m]\u001b[0m\u001b[0;34m[\u001b[0m\u001b[0;36m0\u001b[0m\u001b[0;34m]\u001b[0m\u001b[0;34m[\u001b[0m\u001b[0;34m\"PlaceId\"\u001b[0m\u001b[0;34m]\u001b[0m\u001b[0;34m\u001b[0m\u001b[0;34m\u001b[0m\u001b[0m\n\u001b[0m",
      "\u001b[0;31mKeyError\u001b[0m: 'Places'",
      "\nDuring handling of the above exception, another exception occurred:\n",
      "\u001b[0;31mKeyboardInterrupt\u001b[0m                         Traceback (most recent call last)",
      "\u001b[0;32m<ipython-input-135-96311a736bee>\u001b[0m in \u001b[0;36m<module>\u001b[0;34m\u001b[0m\n\u001b[0;32m----> 1\u001b[0;31m \u001b[0mlowest_price\u001b[0m\u001b[0;34m(\u001b[0m\u001b[0;34m'Barcelona'\u001b[0m\u001b[0;34m,\u001b[0m\u001b[0;34m'London'\u001b[0m\u001b[0;34m,\u001b[0m\u001b[0;34m'2020-11-26'\u001b[0m\u001b[0;34m,\u001b[0m\u001b[0;34m'2020-12-10'\u001b[0m\u001b[0;34m)\u001b[0m\u001b[0;34m\u001b[0m\u001b[0;34m\u001b[0m\u001b[0m\n\u001b[0m",
      "\u001b[0;32m<ipython-input-134-27fac2833fa8>\u001b[0m in \u001b[0;36mlowest_price\u001b[0;34m(origin, destination, start, end)\u001b[0m\n\u001b[1;32m      1\u001b[0m \u001b[0;32mdef\u001b[0m \u001b[0mlowest_price\u001b[0m\u001b[0;34m(\u001b[0m\u001b[0morigin\u001b[0m\u001b[0;34m,\u001b[0m \u001b[0mdestination\u001b[0m\u001b[0;34m,\u001b[0m \u001b[0mstart\u001b[0m\u001b[0;34m,\u001b[0m \u001b[0mend\u001b[0m\u001b[0;34m)\u001b[0m\u001b[0;34m:\u001b[0m\u001b[0;34m\u001b[0m\u001b[0;34m\u001b[0m\u001b[0m\n\u001b[1;32m      2\u001b[0m \u001b[0;34m\u001b[0m\u001b[0m\n\u001b[0;32m----> 3\u001b[0;31m     \u001b[0mflights\u001b[0m \u001b[0;34m=\u001b[0m \u001b[0mflight_days\u001b[0m\u001b[0;34m(\u001b[0m\u001b[0morigin\u001b[0m\u001b[0;34m,\u001b[0m \u001b[0mdestination\u001b[0m\u001b[0;34m,\u001b[0m \u001b[0mstart\u001b[0m\u001b[0;34m,\u001b[0m \u001b[0mend\u001b[0m\u001b[0;34m)\u001b[0m\u001b[0;34m\u001b[0m\u001b[0;34m\u001b[0m\u001b[0m\n\u001b[0m\u001b[1;32m      4\u001b[0m \u001b[0;34m\u001b[0m\u001b[0m\n\u001b[1;32m      5\u001b[0m     \u001b[0mmy_dict\u001b[0m \u001b[0;34m=\u001b[0m \u001b[0;34m{\u001b[0m\u001b[0;34m}\u001b[0m\u001b[0;34m\u001b[0m\u001b[0;34m\u001b[0m\u001b[0m\n",
      "\u001b[0;32m<ipython-input-112-d3fb76829da4>\u001b[0m in \u001b[0;36mflight_days\u001b[0;34m(origin, destination, start, end)\u001b[0m\n\u001b[1;32m     19\u001b[0m         \u001b[0;32mexcept\u001b[0m\u001b[0;34m:\u001b[0m\u001b[0;34m\u001b[0m\u001b[0;34m\u001b[0m\u001b[0m\n\u001b[1;32m     20\u001b[0m             \u001b[0mprint\u001b[0m\u001b[0;34m(\u001b[0m\u001b[0;34m\"Error from the API\"\u001b[0m\u001b[0;34m)\u001b[0m\u001b[0;34m\u001b[0m\u001b[0;34m\u001b[0m\u001b[0m\n\u001b[0;32m---> 21\u001b[0;31m             \u001b[0msleep\u001b[0m\u001b[0;34m(\u001b[0m\u001b[0;36m60\u001b[0m\u001b[0;34m)\u001b[0m\u001b[0;34m\u001b[0m\u001b[0;34m\u001b[0m\u001b[0m\n\u001b[0m\u001b[1;32m     22\u001b[0m \u001b[0;34m\u001b[0m\u001b[0m\n\u001b[1;32m     23\u001b[0m     \u001b[0;32mreturn\u001b[0m \u001b[0mmy_dict\u001b[0m\u001b[0;34m\u001b[0m\u001b[0;34m\u001b[0m\u001b[0m\n",
      "\u001b[0;31mKeyboardInterrupt\u001b[0m: "
     ]
    }
   ],
   "source": [
    "lowest_price('Barcelona','London','2020-11-26','2020-12-10')"
   ]
  },
  {
   "cell_type": "code",
   "execution_count": null,
   "metadata": {},
   "outputs": [],
   "source": [
    "# class example\n",
    "# flights = flight_days('Barcelona','London','2020-11-26','2020-12-10')\n",
    "\n",
    "# my_dict = {}\n",
    "\n",
    "# for date in flights: # We iterate over the dates\n",
    "# #     print(\"The flights for this date are: \")\n",
    "# #     print(flights[date]['Quotes'])\n",
    "#     my_dict[date] = [] #We create an empty list of prices for the given date.\n",
    "#     for elem in flights[date]['Quotes']: # We iterate over \"Quotes\" of each day.\n",
    "#         my_dict[date].append(elem['MinPrice']) # We fill the date with the prices.\n",
    "# #     print(\"The prices for this date are: \",my_dict[date])\n",
    "#     print(\"The min price for this date is: \",min(my_dict[date])) # We determine the minimum price.\n"
   ]
  },
  {
   "cell_type": "code",
   "execution_count": null,
   "metadata": {},
   "outputs": [],
   "source": []
  }
 ],
 "metadata": {
  "colab": {
   "name": "Afternoon_day2.ipynb",
   "provenance": [],
   "toc_visible": true
  },
  "kernelspec": {
   "display_name": "Python 3",
   "language": "python",
   "name": "python3"
  },
  "language_info": {
   "codemirror_mode": {
    "name": "ipython",
    "version": 3
   },
   "file_extension": ".py",
   "mimetype": "text/x-python",
   "name": "python",
   "nbconvert_exporter": "python",
   "pygments_lexer": "ipython3",
   "version": "3.7.6"
  }
 },
 "nbformat": 4,
 "nbformat_minor": 4
}
